{
 "cells": [
  {
   "cell_type": "markdown",
   "metadata": {},
   "source": [
    "## cross validation"
   ]
  },
  {
   "cell_type": "code",
   "execution_count": 3,
   "metadata": {},
   "outputs": [],
   "source": [
    "import os\n",
    "os.environ[\"CUDA_DEVICE_ORDER\"] = \"PCI_BUS_ID\"   # see issue #152\n",
    "os.environ[\"CUDA_VISIBLE_DEVICES\"] = \"\"\n",
    "\n",
    "import pandas as pd\n",
    "import tensorflow as tf\n",
    "import theano\n",
    "import keras \n",
    "\n",
    "import numpy as np\n",
    "import matplotlib.pyplot as plt\n",
    "from time import time"
   ]
  },
  {
   "cell_type": "markdown",
   "metadata": {
    "collapsed": true
   },
   "source": [
    "### data preprocessing"
   ]
  },
  {
   "cell_type": "code",
   "execution_count": 4,
   "metadata": {},
   "outputs": [
    {
     "name": "stdout",
     "output_type": "stream",
     "text": [
      "(10000, 14)\n",
      "(10000, 12)\n",
      "(10000, 11)\n"
     ]
    }
   ],
   "source": [
    "df = pd.read_csv('../Artificial_Neural_Networks/Churn_Modelling.csv')\n",
    "print df.shape\n",
    "X = df.iloc[:,3:-1].values\n",
    "y = df.iloc[:,-1].values\n",
    "\n",
    "# Encoding the Independent Variable\n",
    "from sklearn.preprocessing import LabelEncoder, OneHotEncoder\n",
    "labelencoder_X_1 = LabelEncoder()\n",
    "X[:, 1] = labelencoder_X_1.fit_transform(X[:, 1])\n",
    "labelencoder_X_2 = LabelEncoder()\n",
    "X[:, 2] = labelencoder_X_2.fit_transform(X[:, 2])\n",
    "\n",
    "onehotencoder = OneHotEncoder(categorical_features = [1])\n",
    "X = onehotencoder.fit_transform(X).toarray()\n",
    "print X.shape\n",
    "\n",
    "# remove one dummy variable to avoid dummy variable trap\n",
    "X = X[:, 1:]\n",
    "print X.shape"
   ]
  },
  {
   "cell_type": "markdown",
   "metadata": {},
   "source": [
    "### train test split & feature scaling "
   ]
  },
  {
   "cell_type": "code",
   "execution_count": 5,
   "metadata": {},
   "outputs": [
    {
     "name": "stdout",
     "output_type": "stream",
     "text": [
      "[(8000, 11), (2000, 11), (8000,), (2000,)]\n"
     ]
    }
   ],
   "source": [
    "S = lambda *x: [i.shape for i in x]\n",
    "\n",
    "from sklearn.model_selection import train_test_split\n",
    "X_train, X_test, y_train, y_test = train_test_split(X, y, test_size=0.2, random_state=0)\n",
    "# print S(X_train,X_test, y_train, y_test)\n",
    "\n",
    "from sklearn.preprocessing import StandardScaler\n",
    "sc = StandardScaler()\n",
    "# fit on training set\n",
    "X_train = sc.fit_transform(X_train)\n",
    "# only transform on test set\n",
    "X_test = sc.transform(X_test)\n",
    "print S(X_train,X_test, y_train, y_test)"
   ]
  },
  {
   "cell_type": "markdown",
   "metadata": {},
   "source": [
    "### build k-fold func ANN\n",
    "## Dropout and GridSearch (parameter tuning)"
   ]
  },
  {
   "cell_type": "code",
   "execution_count": 6,
   "metadata": {
    "collapsed": true
   },
   "outputs": [],
   "source": [
    "from keras.layers import Dropout\n",
    "\n",
    "from keras.models import Sequential\n",
    "from keras.layers import Dense\n",
    "\n",
    "from keras.wrappers.scikit_learn import KerasClassifier\n",
    "# k-fold cross validation\n",
    "from sklearn.model_selection import GridSearchCV"
   ]
  },
  {
   "cell_type": "code",
   "execution_count": 7,
   "metadata": {
    "collapsed": true
   },
   "outputs": [],
   "source": [
    "def build_classifier(opt, P, h1, h2):\n",
    "    classifier = Sequential()\n",
    "    # first hidden layer\n",
    "    # classifier.add(Dense(units = 6, input_shape=(11,),  kernel_initializer='uniform', activation='relu'))\n",
    "    classifier.add(Dense(units = h1, input_dim=11,  kernel_initializer='uniform', activation='relu'))\n",
    "    # Dropout\n",
    "    classifier.add(Dropout(p= P))\n",
    "    \n",
    "    # second hidden layer\n",
    "    classifier.add(Dense(units = h2,  kernel_initializer='he_uniform', activation='relu'))\n",
    "    # Dropout\n",
    "    classifier.add(Dropout(p= P))    \n",
    "    \n",
    "    # ouput layer\n",
    "    classifier.add(Dense(units = 1,  kernel_initializer='he_uniform', activation='sigmoid'))\n",
    "    # compiling the ANN\n",
    "    classifier.compile(optimizer= opt, loss='binary_crossentropy', metrics= ['accuracy'])\n",
    "#     print classifier.summary()\n",
    "    return classifier\n",
    "\n",
    "classifier = KerasClassifier(build_fn= build_classifier)"
   ]
  },
  {
   "cell_type": "code",
   "execution_count": 8,
   "metadata": {
    "collapsed": true
   },
   "outputs": [],
   "source": [
    "parameters = {\n",
    "    'batch_size':[16, 32, 64],\n",
    "    'nb_epoch':[ 100, 300],\n",
    "    'opt':['adam'],\n",
    "    'P':[0.01],\n",
    "    'h1':[6, 12, 24],\n",
    "    'h2':[3, 6, 12]\n",
    "}"
   ]
  },
  {
   "cell_type": "code",
   "execution_count": 9,
   "metadata": {
    "collapsed": true
   },
   "outputs": [],
   "source": [
    "grid_sesarch = GridSearchCV(estimator= classifier, param_grid= parameters, \n",
    "                           scoring= 'accuracy', cv= 10, n_jobs=-1)"
   ]
  },
  {
   "cell_type": "code",
   "execution_count": null,
   "metadata": {},
   "outputs": [
    {
     "name": "stderr",
     "output_type": "stream",
     "text": [
      "/home/saya/anaconda2/lib/python2.7/site-packages/ipykernel_launcher.py:7: UserWarning: Update your `Dropout` call to the Keras 2 API: `Dropout(rate=0.01)`\n",
      "  import sys\n",
      "/home/saya/anaconda2/lib/python2.7/site-packages/ipykernel_launcher.py:7: UserWarning: Update your `Dropout` call to the Keras 2 API: `Dropout(rate=0.01)`\n",
      "  import sys\n",
      "/home/saya/anaconda2/lib/python2.7/site-packages/ipykernel_launcher.py:7: UserWarning: Update your `Dropout` call to the Keras 2 API: `Dropout(rate=0.01)`\n",
      "  import sys\n",
      "/home/saya/anaconda2/lib/python2.7/site-packages/ipykernel_launcher.py:7: UserWarning: Update your `Dropout` call to the Keras 2 API: `Dropout(rate=0.01)`\n",
      "  import sys\n",
      "/home/saya/anaconda2/lib/python2.7/site-packages/ipykernel_launcher.py:12: UserWarning: Update your `Dropout` call to the Keras 2 API: `Dropout(rate=0.01)`\n",
      "  if sys.path[0] == '':\n",
      "/home/saya/anaconda2/lib/python2.7/site-packages/ipykernel_launcher.py:12: UserWarning: Update your `Dropout` call to the Keras 2 API: `Dropout(rate=0.01)`\n",
      "  if sys.path[0] == '':\n",
      "/home/saya/anaconda2/lib/python2.7/site-packages/ipykernel_launcher.py:12: UserWarning: Update your `Dropout` call to the Keras 2 API: `Dropout(rate=0.01)`\n",
      "  if sys.path[0] == '':\n",
      "/home/saya/anaconda2/lib/python2.7/site-packages/ipykernel_launcher.py:12: UserWarning: Update your `Dropout` call to the Keras 2 API: `Dropout(rate=0.01)`\n",
      "  if sys.path[0] == '':\n"
     ]
    },
    {
     "name": "stdout",
     "output_type": "stream",
     "text": [
      "Epoch 1/10\n",
      "Epoch 1/10\n",
      "Epoch 1/10\n",
      "Epoch 1/10\n",
      "7200/7200 [==============================] - 1s - loss: 0.5130 - acc: 0.7951     \n",
      "Epoch 2/10\n",
      "7200/7200 [==============================] - 1s - loss: 0.5115 - acc: 0.7911     \n",
      "Epoch 2/10\n",
      "7200/7200 [==============================] - 1s - loss: 0.5116 - acc: 0.7897     \n",
      " 368/7200 [>.............................] - ETA: 1s - loss: 0.4153 - acc: 0.8152Epoch 2/10\n",
      "1056/7200 [===>..........................] - ETA: 0s - loss: 0.4004 - acc: 0.8239\n",
      "Epoch 2/10\n",
      "7200/7200 [==============================] - 1s - loss: 0.4082 - acc: 0.8250     \n",
      "Epoch 3/10\n",
      "7200/7200 [==============================] - 1s - loss: 0.3930 - acc: 0.8356     \n",
      "Epoch 3/10\n",
      "7200/7200 [==============================] - 1s - loss: 0.3953 - acc: 0.8340     \n",
      "Epoch 3/10\n",
      "7200/7200 [==============================] - 1s - loss: 0.3906 - acc: 0.8378     \n",
      "Epoch 3/10\n",
      "7200/7200 [==============================] - 1s - loss: 0.3935 - acc: 0.8390     \n",
      "5936/7200 [=======================>......] - ETA: 0s - loss: 0.3692 - acc: 0.8509Epoch 4/10\n",
      "7200/7200 [==============================] - 1s - loss: 0.3703 - acc: 0.8519     \n",
      "1344/7200 [====>.........................] - ETA: 0s - loss: 0.3914 - acc: 0.8460Epoch 4/10\n",
      "7200/7200 [==============================] - 1s - loss: 0.3732 - acc: 0.8507     \n",
      "Epoch 4/10\n",
      "7200/7200 [==============================] - 1s - loss: 0.3680 - acc: 0.8536     \n",
      "Epoch 4/10\n",
      "4720/7200 [==================>...........] - ETA: 0s - loss: 0.3552 - acc: 0.8568\n",
      "2880/7200 [===========>..................] - ETA: 0s - loss: 0.3587 - acc: 0.8500Epoch 5/10\n",
      "7200/7200 [==============================] - 1s - loss: 0.3604 - acc: 0.8539     \n",
      "4864/7200 [===================>..........] - ETA: 0s - loss: 0.3559 - acc: 0.8549Epoch 5/10\n",
      "6144/7200 [========================>.....] - ETA: 0s - loss: 0.3595 - acc: 0.8527\n",
      "1280/7200 [====>.........................] - ETA: 0s - loss: 0.3596 - acc: 0.8500Epoch 5/10\n",
      "7200/7200 [==============================] - 1s - loss: 0.3589 - acc: 0.8531     \n",
      "Epoch 5/10\n",
      "7200/7200 [==============================] - 1s - loss: 0.3694 - acc: 0.8489     \n",
      "Epoch 6/10\n",
      "7200/7200 [==============================] - 1s - loss: 0.3566 - acc: 0.8535     \n",
      "6096/7200 [========================>.....] - ETA: 0s - loss: 0.3614 - acc: 0.8525Epoch 6/10\n",
      "7200/7200 [==============================] - 1s - loss: 0.3611 - acc: 0.8515     \n",
      "Epoch 6/10\n",
      "7200/7200 [==============================] - 1s - loss: 0.3555 - acc: 0.8553     \n",
      "Epoch 6/10\n",
      "7200/7200 [==============================] - 1s - loss: 0.3592 - acc: 0.8532     \n",
      "Epoch 7/10\n",
      "2624/7200 [=========>....................] - ETA: 0s - loss: 0.3559 - acc: 0.8498\n",
      "Epoch 7/10\n",
      "7200/7200 [==============================] - 1s - loss: 0.3574 - acc: 0.8538     \n",
      "4192/7200 [================>.............] - ETA: 0s - loss: 0.3603 - acc: 0.8528Epoch 7/10\n",
      "1696/7200 [======>.......................] - ETA: 1s - loss: 0.3575 - acc: 0.8485\n",
      "Epoch 7/10\n",
      "7200/7200 [==============================] - 1s - loss: 0.3558 - acc: 0.8535     \n",
      "Epoch 8/10\n",
      "7200/7200 [==============================] - 1s - loss: 0.3528 - acc: 0.8560     \n",
      "Epoch 8/10\n",
      "7200/7200 [==============================] - 1s - loss: 0.3563 - acc: 0.8538     \n",
      "Epoch 8/10\n",
      "7200/7200 [==============================] - 1s - loss: 0.3518 - acc: 0.8567     \n",
      "Epoch 8/10\n",
      "3520/7200 [=============>................] - ETA: 0s - loss: 0.3511 - acc: 0.8588"
     ]
    }
   ],
   "source": [
    "if __name__ == \"__main__\":\n",
    "    import sys\n",
    "    from time import time\n",
    "    start = time()\n",
    "    grid = grid_sesarch.fit(X_train, y_train)\n",
    "    eclipse = time()-start\n",
    "    print 'used: {:.2f} s'.format(eclipse)\n",
    "    \n",
    "    best_parameters = grid.best_params_\n",
    "    best_accuracy = grid.best_score_"
   ]
  },
  {
   "cell_type": "code",
   "execution_count": null,
   "metadata": {
    "collapsed": true
   },
   "outputs": [],
   "source": [
    "best_parameters"
   ]
  },
  {
   "cell_type": "code",
   "execution_count": null,
   "metadata": {
    "collapsed": true
   },
   "outputs": [],
   "source": [
    "best_accuracy"
   ]
  },
  {
   "cell_type": "code",
   "execution_count": null,
   "metadata": {
    "collapsed": true
   },
   "outputs": [],
   "source": [
    "# GridSearchCV?"
   ]
  },
  {
   "cell_type": "code",
   "execution_count": null,
   "metadata": {
    "collapsed": true
   },
   "outputs": [],
   "source": [
    "eclipse"
   ]
  },
  {
   "cell_type": "code",
   "execution_count": null,
   "metadata": {
    "collapsed": true
   },
   "outputs": [],
   "source": [
    "from time import ctime\n",
    "with open('result_5.txt', 'w+') as fl:\n",
    "    fl.write(str(best_parameters)+'\\n')\n",
    "    fl.write(str(best_accuracy)+'\\n')\n",
    "    fl.write(str(eclipse)+'\\n')\n",
    "    fl.write(str(ctime())+'\\n')"
   ]
  },
  {
   "cell_type": "code",
   "execution_count": null,
   "metadata": {
    "collapsed": true
   },
   "outputs": [],
   "source": []
  },
  {
   "cell_type": "code",
   "execution_count": null,
   "metadata": {
    "collapsed": true
   },
   "outputs": [],
   "source": [
    "# if __name__ == \"__main__\":\n",
    "#     from time import time\n",
    "#     start=time()\n",
    "#     accuracies = cross_val_score(estimator = classifier, X=X_train, y=y_train, cv=10, n_jobs=-1)\n",
    "#     eclipse = time()-start\n",
    "#     print 'used: {:.2f} s'.format(eclipse)"
   ]
  },
  {
   "cell_type": "code",
   "execution_count": null,
   "metadata": {
    "collapsed": true
   },
   "outputs": [],
   "source": []
  },
  {
   "cell_type": "code",
   "execution_count": null,
   "metadata": {
    "collapsed": true
   },
   "outputs": [],
   "source": [
    "# accuracies"
   ]
  },
  {
   "cell_type": "code",
   "execution_count": null,
   "metadata": {
    "collapsed": true
   },
   "outputs": [],
   "source": [
    "# accuracies.mean()"
   ]
  },
  {
   "cell_type": "code",
   "execution_count": null,
   "metadata": {
    "collapsed": true
   },
   "outputs": [],
   "source": [
    "# accuracies.std()"
   ]
  },
  {
   "cell_type": "markdown",
   "metadata": {},
   "source": [
    "### Predicting a single new observation"
   ]
  }
 ],
 "metadata": {
  "kernelspec": {
   "display_name": "Python 2",
   "language": "python",
   "name": "python2"
  },
  "language_info": {
   "codemirror_mode": {
    "name": "ipython",
    "version": 2
   },
   "file_extension": ".py",
   "mimetype": "text/x-python",
   "name": "python",
   "nbconvert_exporter": "python",
   "pygments_lexer": "ipython2",
   "version": "2.7.13"
  }
 },
 "nbformat": 4,
 "nbformat_minor": 2
}
